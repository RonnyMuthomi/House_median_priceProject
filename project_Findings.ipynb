{
 "cells": [
  {
   "cell_type": "code",
   "execution_count": null,
   "id": "18224d27",
   "metadata": {},
   "outputs": [],
   "source": [
    "Project_Title: Model to predict district housing median price\n",
    "    \n",
    "Current Solution: Manual estimation by experts with high error rate\n",
    "    \n",
    "The need for a model: Reduce cost and improve accuracy\n",
    "    \n",
    "Data Source: Census data (includes median housing prices and other features)\n",
    "    \n",
    "ML model to use: Supervised Learning (labeled data available)\n",
    "    \n",
    "Task to use: Multiple Regression (predicting continuous value)\n",
    "    \n",
    "Univariate Regression: Only predicting a single value per district\n",
    "    \n",
    "Batch Learning: No need for real-time adjustments"
   ]
  },
  {
   "cell_type": "code",
   "execution_count": null,
   "id": "bff32672",
   "metadata": {},
   "outputs": [],
   "source": []
  }
 ],
 "metadata": {
  "kernelspec": {
   "display_name": "Python 3 (ipykernel)",
   "language": "python",
   "name": "python3"
  },
  "language_info": {
   "codemirror_mode": {
    "name": "ipython",
    "version": 3
   },
   "file_extension": ".py",
   "mimetype": "text/x-python",
   "name": "python",
   "nbconvert_exporter": "python",
   "pygments_lexer": "ipython3",
   "version": "3.11.5"
  }
 },
 "nbformat": 4,
 "nbformat_minor": 5
}
