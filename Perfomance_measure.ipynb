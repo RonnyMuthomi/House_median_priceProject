{
 "cells": [
  {
   "cell_type": "code",
   "execution_count": null,
   "id": "6a073338",
   "metadata": {},
   "outputs": [],
   "source": [
    "# Perfomance measure depends with task used\n",
    "\n",
    "LinearRegression : uses ROOT MEAN SQUARE ERROR (RMSE) &\n",
    "\n",
    "MEAN ABSOLUTE ERROR (MAE)"
   ]
  },
  {
   "cell_type": "code",
   "execution_count": 4,
   "id": "c9ab3ef3",
   "metadata": {},
   "outputs": [
    {
     "name": "stdout",
     "output_type": "stream",
     "text": [
      "       longitude  latitude  housing_median_age  total_rooms  total_bedrooms  \\\n",
      "0        -122.23     37.88                41.0        880.0           129.0   \n",
      "1        -122.22     37.86                21.0       7099.0          1106.0   \n",
      "2        -122.24     37.85                52.0       1467.0           190.0   \n",
      "3        -122.25     37.85                52.0       1274.0           235.0   \n",
      "4        -122.25     37.85                52.0       1627.0           280.0   \n",
      "...          ...       ...                 ...          ...             ...   \n",
      "20635    -121.09     39.48                25.0       1665.0           374.0   \n",
      "20636    -121.21     39.49                18.0        697.0           150.0   \n",
      "20637    -121.22     39.43                17.0       2254.0           485.0   \n",
      "20638    -121.32     39.43                18.0       1860.0           409.0   \n",
      "20639    -121.24     39.37                16.0       2785.0           616.0   \n",
      "\n",
      "       population  households  median_income  median_house_value  \\\n",
      "0           322.0       126.0         8.3252            452600.0   \n",
      "1          2401.0      1138.0         8.3014            358500.0   \n",
      "2           496.0       177.0         7.2574            352100.0   \n",
      "3           558.0       219.0         5.6431            341300.0   \n",
      "4           565.0       259.0         3.8462            342200.0   \n",
      "...           ...         ...            ...                 ...   \n",
      "20635       845.0       330.0         1.5603             78100.0   \n",
      "20636       356.0       114.0         2.5568             77100.0   \n",
      "20637      1007.0       433.0         1.7000             92300.0   \n",
      "20638       741.0       349.0         1.8672             84700.0   \n",
      "20639      1387.0       530.0         2.3886             89400.0   \n",
      "\n",
      "      ocean_proximity  \n",
      "0            NEAR BAY  \n",
      "1            NEAR BAY  \n",
      "2            NEAR BAY  \n",
      "3            NEAR BAY  \n",
      "4            NEAR BAY  \n",
      "...               ...  \n",
      "20635          INLAND  \n",
      "20636          INLAND  \n",
      "20637          INLAND  \n",
      "20638          INLAND  \n",
      "20639          INLAND  \n",
      "\n",
      "[20640 rows x 10 columns]\n"
     ]
    }
   ],
   "source": [
    "from pathlib import Path\n",
    "import pandas as pd\n",
    "import tarfile\n",
    "import urllib.request\n",
    "def load_housing_data():\n",
    " tarball_path = Path(\"datasets/housing.tgz\")\n",
    " if not tarball_path.is_file():\n",
    "    Path(\"datasets\").mkdir(parents=True, exist_ok=True)\n",
    " url = \"https://github.com/ageron/data/raw/main/housing.tgz\"\n",
    " urllib.request.urlretrieve(url, tarball_path)\n",
    " with tarfile.open(tarball_path) as housing_tarball:\n",
    "    housing_tarball.extractall(path=\"datasets\")\n",
    " return pd.read_csv(Path(\"datasets/housing/housing.csv\"))\n",
    "housing = load_housing_data()\n",
    "\n",
    "print(housing)"
   ]
  },
  {
   "cell_type": "code",
   "execution_count": null,
   "id": "82b1acec",
   "metadata": {},
   "outputs": [],
   "source": []
  }
 ],
 "metadata": {
  "kernelspec": {
   "display_name": "Python 3 (ipykernel)",
   "language": "python",
   "name": "python3"
  },
  "language_info": {
   "codemirror_mode": {
    "name": "ipython",
    "version": 3
   },
   "file_extension": ".py",
   "mimetype": "text/x-python",
   "name": "python",
   "nbconvert_exporter": "python",
   "pygments_lexer": "ipython3",
   "version": "3.11.5"
  }
 },
 "nbformat": 4,
 "nbformat_minor": 5
}
